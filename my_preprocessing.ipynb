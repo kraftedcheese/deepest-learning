{
 "cells": [
  {
   "cell_type": "code",
   "execution_count": null,
   "metadata": {},
   "outputs": [],
   "source": [
    "import os,re\n",
    "import collections\n",
    "import soundfile as sf\n",
    "import numpy as np\n",
    "from scipy.stats import norm\n",
    "import pyworld as pw\n",
    "import matplotlib.pyplot as plt\n",
    "import sys\n",
    "import h5py\n",
    "import librosa\n",
    "import config\n",
    "\n",
    "# test\n",
    "import utils \n",
    "\n",
    "def process_lab_file(filename, stft_len):\n",
    "\n",
    "    lab_f = open(filename)\n",
    "\n",
    "    phos = lab_f.readlines()\n",
    "    lab_f.close()\n",
    "\n",
    "    phonemes=[]\n",
    "\n",
    "    for pho in phos:\n",
    "        st,end,phonote=pho.split()\n",
    "        st = int(np.round(float(st)/0.005804576860324892))\n",
    "        en = int(np.round(float(end)/0.005804576860324892))\n",
    "        if phonote=='pau' or phonote=='br' or phonote == 'sil':\n",
    "            phonote='Sil'\n",
    "        phonemes.append([st,en,phonote])\n",
    "\n",
    "    print(phonemes)\n",
    "    \n",
    "\n",
    "    strings_p = np.zeros((phonemes[-1][1],1))\n",
    "\n",
    "\n",
    "    for i in range(len(phonemes)):\n",
    "        pho=phonemes[i]\n",
    "        value = config.phonemas_nus.index(pho[2])\n",
    "        strings_p[pho[0]:pho[1]+1] = value\n",
    "    return strings_p"
   ]
  },
  {
   "cell_type": "code",
   "execution_count": null,
   "metadata": {},
   "outputs": [],
   "source": [
    "sing_dir = config.NUS_DIR+ \"ADIZ/\" + '/sing/'\n",
    "\n",
    "strings_p = process_lab_file(os.path.join(sing_dir,wav[:-4]+'.txt'), len(voc_stft))\n"
   ]
  }
 ],
 "metadata": {
  "interpreter": {
   "hash": "0600588c3b5f4418cbe7b5ebc6825b479f3bc010269d8b60d75058cdd010adfe"
  },
  "kernelspec": {
   "display_name": "Python 3.7.6 64-bit",
   "language": "python",
   "name": "python3"
  },
  "language_info": {
   "name": "python",
   "version": "3.7.6"
  },
  "orig_nbformat": 4
 },
 "nbformat": 4,
 "nbformat_minor": 2
}
